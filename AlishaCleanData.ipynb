{
 "cells": [
  {
   "cell_type": "code",
   "execution_count": 160,
   "metadata": {},
   "outputs": [],
   "source": [
    "import pandas as pd\n",
    "import numpy as np\n",
    "import string\n",
    "import re\n",
    "from IPython.core.interactiveshell import InteractiveShell\n",
    "InteractiveShell.ast_node_interactivity = \"all\""
   ]
  },
  {
   "cell_type": "code",
   "execution_count": 163,
   "metadata": {},
   "outputs": [],
   "source": [
    "#Replace dirty values in the column with nan\n",
    "def replace_dirtydata_nan(data_col, nan_items):\n",
    "    replacements = dict.fromkeys(nan_items, np.nan)\n",
    "    data_col = data_col.replace(replacements)\n",
    "    return data_col\n",
    "\n",
    "#make the column values boolean (yes/no)\n",
    "def rep_with_boolean(data_col):\n",
    "    conditions = ((data_col == \"No\") | data_col.isna())\n",
    "    data_col = pd.Series(np.where(conditions, data_col, \"Yes\"))\n",
    "    return data_col\n",
    "\n",
    "#extract first occurrence of numbers in the string\n",
    "def extract_mAh(data):\n",
    "    res = data.str.extract(r\"(\\b\\d+)\")[0]\n",
    "    return res.astype(float)\n",
    "\n",
    "#convert battery data in Wh to mAh to make the data consistent\n",
    "def convert_Wh_to_mAh(data):\n",
    "    Wh = extract_mAh(data)\n",
    "    return round(Wh*1000/3.7)\n",
    "\n",
    "#MAIN DATA CLEANING FUNCTIONS\n",
    "\n",
    "#AUDIO\n",
    "def clean_audiojack_data(audio_jack):\n",
    "    audio_jack = pd.Series(audio_jack.str.split(r'[\\s\"|\"]').str[0])\n",
    "    audio_jack = audio_jack.replace(\"TBD\", np.nan)\n",
    "    return audio_jack\n",
    "\n",
    "#GPS\n",
    "def clean_GPS_data(GPS):\n",
    "    nan_items = [\"To be confirmed\", \"TBD\"]\n",
    "    GPS = replace_dirtydata_nan(GPS, nan_items)\n",
    "    GPS = rep_with_boolean(GPS)\n",
    "    return GPS\n",
    "\n",
    "#NFC\n",
    "def clean_NFC_data(NFC):\n",
    "    nan_items = [\"TBC\", \"TBD\", \"To be confirmed\"]\n",
    "    NFC = replace_dirtydata_nan(NFC, nan_items)\n",
    "    NFC = rep_with_boolean(NFC)\n",
    "    return NFC\n",
    "\n",
    "#RADIO\n",
    "def clean_radio_data(radio):\n",
    "    nan_items = [\"TBC\", \"TBD\", \"To be confirmed\", \"N&#1086\"]\n",
    "    radio = replace_dirtydata_nan(radio, nan_items)\n",
    "    radio = rep_with_boolean(radio)\n",
    "    return radio\n",
    "\n",
    "#BATTERY\n",
    "def clean_battery_data(battery):\n",
    "    battery = pd.Series(np.where(battery.str.contains(\"mAh\"), extract_mAh(battery), convert_Wh_to_mAh(battery)))\n",
    "    return battery\n",
    "\n"
   ]
  },
  {
   "cell_type": "code",
   "execution_count": 164,
   "metadata": {},
   "outputs": [],
   "source": [
    "if __name__ == \"__main__\":  \n",
    "    data = pd.read_csv(\"phones_refined.csv\", header = 0)\n",
    "    # data\n",
    "\n",
    "    audio_jack = clean_audiojack_data(data[\"audio_jack\"])\n",
    "    GPS = clean_GPS_data(data[\"GPS\"])\n",
    "    NFC = clean_NFC_data(data[\"NFC\"])\n",
    "    radio = clean_radio_data(data[\"radio\"])\n",
    "    battery = clean_battery_data(data[\"battery\"])\n",
    "    \n",
    "    pd.concat({\"audio_jack\": audio_jack, \"GPS\": GPS, \"NFC\":  NFC, \"radio\": radio, \"battery\": battery}, axis = 1).to_csv(\"alisha_refined_phonedata.csv\")\n"
   ]
  }
 ],
 "metadata": {
  "kernelspec": {
   "display_name": "Python 3",
   "language": "python",
   "name": "python3"
  },
  "language_info": {
   "codemirror_mode": {
    "name": "ipython",
    "version": 3
   },
   "file_extension": ".py",
   "mimetype": "text/x-python",
   "name": "python",
   "nbconvert_exporter": "python",
   "pygments_lexer": "ipython3",
   "version": "3.7.1"
  }
 },
 "nbformat": 4,
 "nbformat_minor": 2
}
