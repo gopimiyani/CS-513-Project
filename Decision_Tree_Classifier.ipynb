{
 "cells": [
  {
   "cell_type": "code",
   "execution_count": 133,
   "metadata": {},
   "outputs": [],
   "source": [
    "import numpy as np\n",
    "import pandas as pd\n",
    "from sklearn.tree import DecisionTreeClassifier, export_graphviz\n",
    "from sklearn.model_selection import train_test_split\n",
    "from sklearn.metrics import confusion_matrix, accuracy_score\n",
    "from sklearn.model_selection import GridSearchCV\n",
    "from sklearn.preprocessing import StandardScaler\n",
    "import graphviz"
   ]
  },
  {
   "cell_type": "code",
   "execution_count": 134,
   "metadata": {},
   "outputs": [],
   "source": [
    "def data_split_test_train(data):\n",
    "    X = data.iloc[:, :-1]\n",
    "    y = data.iloc[:, -1]\n",
    "    return train_test_split(X,y,test_size=0.20)\n",
    "\n",
    "def decision_tree_classifier(data):\n",
    "   \n",
    "    \n",
    "    X_train,X_test,y_train,y_test= data_split_test_train(data)\n",
    "    \n",
    "    scaler = StandardScaler()\n",
    "    X_train = scaler.fit_transform(X_train)\n",
    "    X_test = scaler.transform(X_test)\n",
    "    \n",
    "    classifier = DecisionTreeClassifier()\n",
    "    parameters={'min_samples_split' : range(10,500,20),'max_depth': range(1,20,2)}\n",
    "\n",
    "    classifier=GridSearchCV(classifier,parameters)\n",
    "    classifier = classifier.fit(X_train, y_train)\n",
    "    clf = classifier.best_estimator_\n",
    "    y_predict = clf.predict(X_test)\n",
    "\n",
    "    target = y_test.unique()\n",
    "    conf_matrix = pd.DataFrame(confusion_matrix(y_test, y_predict), columns = target, index = target)\n",
    "    \n",
    "    print(conf_matrix)\n",
    "    print(accuracy_score(y_test, y_predict))\n",
    "    \n",
    "#     dot_data = export_graphviz(clf, out_file=None)\n",
    "#     graph = graphviz.Source(dot_data)\n",
    "#     graph.render(\"phones_classifier\")\n"
   ]
  },
  {
   "cell_type": "code",
   "execution_count": 135,
   "metadata": {},
   "outputs": [
    {
     "name": "stderr",
     "output_type": "stream",
     "text": [
      "/Users/alisha/anaconda3/lib/python3.7/site-packages/sklearn/preprocessing/data.py:625: DataConversionWarning: Data with input dtype int64, float64 were all converted to float64 by StandardScaler.\n",
      "  return self.partial_fit(X, y)\n",
      "/Users/alisha/anaconda3/lib/python3.7/site-packages/sklearn/base.py:462: DataConversionWarning: Data with input dtype int64, float64 were all converted to float64 by StandardScaler.\n",
      "  return self.fit(X, **fit_params).transform(X)\n",
      "/Users/alisha/anaconda3/lib/python3.7/site-packages/ipykernel_launcher.py:13: DataConversionWarning: Data with input dtype int64, float64 were all converted to float64 by StandardScaler.\n",
      "  del sys.path[0]\n",
      "/Users/alisha/anaconda3/lib/python3.7/site-packages/sklearn/model_selection/_split.py:2053: FutureWarning: You should specify a value for 'cv' instead of relying on the default value. The default value will change from 3 to 5 in version 0.22.\n",
      "  warnings.warn(CV_WARNING, FutureWarning)\n"
     ]
    },
    {
     "name": "stdout",
     "output_type": "stream",
     "text": [
      "     1    2   3    4\n",
      "1  216   66   6    2\n",
      "2   67  264  45    9\n",
      "3    5   65  57   31\n",
      "4    1   29  23  115\n",
      "0.6513486513486514\n"
     ]
    }
   ],
   "source": [
    "if __name__ == \"__main__\": \n",
    "    data = pd.read_csv(\"./OneHotEncoded/Final_Refined_Encoded.csv\")\n",
    "    decision_tree_classifier(data)"
   ]
  },
  {
   "cell_type": "code",
   "execution_count": null,
   "metadata": {},
   "outputs": [],
   "source": []
  }
 ],
 "metadata": {
  "kernelspec": {
   "display_name": "Python 3",
   "language": "python",
   "name": "python3"
  },
  "language_info": {
   "codemirror_mode": {
    "name": "ipython",
    "version": 3
   },
   "file_extension": ".py",
   "mimetype": "text/x-python",
   "name": "python",
   "nbconvert_exporter": "python",
   "pygments_lexer": "ipython3",
   "version": "3.7.1"
  }
 },
 "nbformat": 4,
 "nbformat_minor": 2
}
